{
 "cells": [
  {
   "cell_type": "code",
   "execution_count": null,
   "metadata": {},
   "outputs": [],
   "source": [
    "import os\n",
    "import numpy as np\n",
    "from pathlib import Path\n",
    "from tqdm import tqdm\n",
    "import pickle"
   ]
  },
  {
   "cell_type": "code",
   "execution_count": null,
   "metadata": {},
   "outputs": [],
   "source": [
    "dataset_path = Path(\"dataset_papers\")\n",
    "paper_folders = os.listdir(dataset_path)\n",
    "parent_folders=paper_folders.sort()\n",
    "print(len(paper_folders))"
   ]
  },
  {
   "cell_type": "code",
   "execution_count": null,
   "metadata": {},
   "outputs": [],
   "source": [
    "print(paper_folders[0])\n",
    "files = os.listdir(dataset_path / paper_folders[0])\n",
    "print(files)"
   ]
  },
  {
   "cell_type": "code",
   "execution_count": null,
   "metadata": {},
   "outputs": [],
   "source": [
    "with open(dataset_path / paper_folders[0] / \"icml07.bbl\", 'r') as f:\n",
    "    content = f.read()\n",
    "    print(content)"
   ]
  },
  {
   "cell_type": "code",
   "execution_count": null,
   "metadata": {},
   "outputs": [],
   "source": [
    "# def strip_and_remove_end_punctuation(text):\n",
    "#     \"\"\"\n",
    "#     Remove end punctuation from the text.\n",
    "#     \"\"\"\n",
    "#     text = text.strip()\n",
    "#     if text.endswith('.'):\n",
    "#         return text[:-1]\n",
    "#     return text"
   ]
  },
  {
   "cell_type": "code",
   "execution_count": null,
   "metadata": {},
   "outputs": [],
   "source": [
    "# from cleantext import clean\n",
    "\n",
    "# def clean_sentence(text):\n",
    "#     return clean(\n",
    "#         text,\n",
    "#         fix_unicode=True,\n",
    "#         to_ascii=True,\n",
    "#         lower=False,\n",
    "#         no_line_breaks=True,\n",
    "#         no_urls=True,\n",
    "#         no_emails=True,\n",
    "#         no_phone_numbers=True,\n",
    "#         no_numbers=False,\n",
    "#         no_digits=False,\n",
    "#         no_currency_symbols=True,\n",
    "#         no_punct=True,\n",
    "#         replace_with_punct=\"\",\n",
    "#         replace_with_url=\"\",\n",
    "#         replace_with_email=\"\",\n",
    "#         replace_with_phone_number=\"\",\n",
    "#         replace_with_number=\"\",\n",
    "#         replace_with_digit=\"\",\n",
    "#         replace_with_currency_symbol=\"\"\n",
    "#     )\n"
   ]
  },
  {
   "cell_type": "code",
   "execution_count": null,
   "metadata": {},
   "outputs": [],
   "source": [
    "import re\n",
    "\n",
    "phrases_to_remove = [r\"\\\\emph\", r\"\\\\em\", r\"\\\\n\" r\"\\\\textsc\"]\n",
    "\n",
    "def format(text):\n",
    "    # Remove listed phrases\n",
    "    for phrase in phrases_to_remove:\n",
    "        text = re.sub(phrase, '', text)\n",
    "\n",
    "    # Remove unwanted characters: {, }, (, ), \\, $, #, @, %, ^, &, *, !, \n",
    "    text = re.sub(r'[{}()\\\\$#@%^&*!\"`\\']', '', text)\n",
    "    \n",
    "    # Remove end punctuation (., ?, !, ;, :, -, – or —)\n",
    "    text = re.sub(r'[.?!;,:\\-–—]+$', '', text)\n",
    "    \n",
    "    # Replace multiple spaces with a single space\n",
    "    text = re.sub(r'\\s+', ' ', text)\n",
    "\n",
    "    text = text.lower()\n",
    "    text = text.strip()\n",
    "    \n",
    "    return text\n",
    "\n",
    "\n",
    "\n",
    "def read_bbl_file(bbl_path):\n",
    "    for encoding in ['utf-8', 'cp1252', 'latin-1']:\n",
    "        try:\n",
    "            with open(bbl_path, 'r', encoding=encoding) as f:\n",
    "                return f.read()\n",
    "        except UnicodeDecodeError:\n",
    "            continue\n",
    "    with open(bbl_path, 'r', encoding='utf-8', errors='ignore') as f:\n",
    "        return f.read()\n",
    "\n",
    "def extract_bib_entries_from_bbl(bbl_path):\n",
    "    content = read_bbl_file(bbl_path)\n",
    "\n",
    "    bib_entries = re.findall(\n",
    "        r'(\\\\bibitem(?:\\[[^\\]]*\\]){0,3}\\{([^}]+)\\}.*?)(?=\\\\bibitem|\\Z|\\\\end\\{thebibliography\\})',\n",
    "        content,\n",
    "        flags=re.DOTALL\n",
    "    )\n",
    "\n",
    "    entries = []\n",
    "\n",
    "    for full_entry, key in bib_entries:\n",
    "        body = re.sub(r'^\\\\bibitem(?:\\[[^\\]]*\\]){0,3}\\{[^}]+\\}', '', full_entry).strip()\n",
    "        parts = re.split(r'\\\\newblock', body)\n",
    "        parts = [p.strip() for p in parts if p.strip()]\n",
    "\n",
    "        if len(parts) >= 2:\n",
    "            # entry = {\n",
    "            #     'key': key,\n",
    "            #     'authors': parts[0],\n",
    "            #     'title': strip_and_remove_end_punctuation(parts[1]),\n",
    "            #     'venue': parts[2] if len(parts) > 2 else None\n",
    "            # }\n",
    "            entry = format(parts[1])\n",
    "            entries.append(entry)\n",
    "        \n",
    "        if len(parts) == 1:\n",
    "            if '``' in parts[0] and \"''\" in parts[0]:\n",
    "                try:\n",
    "                    entry = parts[0].split('``')[1].split(\"''\")[0]\n",
    "                    entry = format(entry)\n",
    "                    entries.append(entry)\n",
    "                except IndexError:\n",
    "                    pass\n",
    "            else:\n",
    "                # Fallback: Just format the only part available\n",
    "                entry = format(parts[0])\n",
    "                entries.append(entry)\n",
    "        \n",
    "        else:\n",
    "            continue\n",
    "            \n",
    "\n",
    "    return entries\n"
   ]
  },
  {
   "cell_type": "code",
   "execution_count": null,
   "metadata": {},
   "outputs": [],
   "source": [
    "from pathlib import Path\n",
    "# 2. Build the path to the target .bbl file:\n",
    "bbl_file_path = dataset_path / paper_folders[1] / \"example_paper.bbl\"\n",
    "\n",
    "# 3. Read and print:\n",
    "content = read_bbl_file(bbl_file_path)\n",
    "print(content)"
   ]
  },
  {
   "cell_type": "code",
   "execution_count": null,
   "metadata": {},
   "outputs": [],
   "source": [
    "extract_bib_entries_from_bbl(\n",
    "    dataset_path / paper_folders[1] / \"example_paper.bbl\"\n",
    ")"
   ]
  },
  {
   "cell_type": "code",
   "execution_count": null,
   "metadata": {},
   "outputs": [],
   "source": [
    "bib_files = []\n",
    "papers_with_bib = []\n",
    "papers_without_bib = []\n",
    "for folder in paper_folders:\n",
    "    paper_files = list(Path(dataset_path / folder).glob(\"*.bib\"))\n",
    "    bib_files += paper_files\n",
    "    if len(paper_files) > 0:\n",
    "        papers_with_bib.append(folder)\n",
    "    else:\n",
    "        papers_without_bib.append(folder)"
   ]
  },
  {
   "cell_type": "code",
   "execution_count": null,
   "metadata": {},
   "outputs": [],
   "source": [
    "print(len(papers_with_bib))\n",
    "print(len(papers_without_bib))"
   ]
  },
  {
   "cell_type": "code",
   "execution_count": null,
   "metadata": {},
   "outputs": [],
   "source": [
    "paper_folders[100]"
   ]
  },
  {
   "cell_type": "code",
   "execution_count": null,
   "metadata": {},
   "outputs": [],
   "source": [
    "bbl_files = []\n",
    "papers_with_bbl = []\n",
    "papers_without_bbl = []\n",
    "for folder in paper_folders:\n",
    "    paper_files = list(Path(dataset_path / folder).glob(\"*.bbl\"))\n",
    "    bbl_files += paper_files\n",
    "    if len(paper_files) > 0:\n",
    "        papers_with_bbl.append(folder)\n",
    "    else:\n",
    "        papers_without_bbl.append(folder)"
   ]
  },
  {
   "cell_type": "code",
   "execution_count": null,
   "metadata": {},
   "outputs": [],
   "source": [
    "print(len(papers_with_bbl))\n",
    "print(len(papers_without_bbl))"
   ]
  },
  {
   "cell_type": "code",
   "execution_count": null,
   "metadata": {},
   "outputs": [],
   "source": [
    "print(papers_without_bbl)"
   ]
  },
  {
   "cell_type": "code",
   "execution_count": null,
   "metadata": {},
   "outputs": [],
   "source": [
    "def clean_latex_text(text):\n",
    "    # Remove LaTeX commands like \\em, \\textit, etc.\n",
    "    cleaned_text = re.sub(r'\\\\[a-zA-Z]+\\{[^}]*\\}', '', text)\n",
    "    # Remove newline characters and extra spaces\n",
    "    cleaned_text = re.sub(r'\\n+', ' ', cleaned_text)\n",
    "    cleaned_text = cleaned_text.strip()\n",
    "    return cleaned_text"
   ]
  },
  {
   "cell_type": "code",
   "execution_count": null,
   "metadata": {},
   "outputs": [],
   "source": [
    "papers = []\n",
    "for i, folder in tqdm(enumerate(paper_folders)):\n",
    "    paper_code = folder\n",
    "    bbl_files = list(Path(dataset_path / folder).glob(\"*.bbl\"))\n",
    "    citations = []\n",
    "    for file in bbl_files:\n",
    "        conference = str(file).split(\"/\")[-1].split(\".\")[0]\n",
    "        # print(conference)\n",
    "        names_citations = extract_bib_entries_from_bbl(file)\n",
    "        citations += [(conference, format(name)) for name in names_citations]\n",
    "    with open(dataset_path / folder / \"title.txt\", 'r') as f:\n",
    "        title = format(f.read())\n",
    "    with open(dataset_path / folder / \"abstract.txt\", 'r') as f:\n",
    "        abstract = f.read().strip()\n",
    "    papers.append({\n",
    "        'index': i,\n",
    "        'paper_code': paper_code,\n",
    "        'title': format(title),\n",
    "        'abstract': abstract,\n",
    "        'citations': citations\n",
    "    })\n",
    "    # print(citations)\n",
    "    # print(title, \"- done\")\n",
    "\n"
   ]
  },
  {
   "cell_type": "code",
   "execution_count": null,
   "metadata": {},
   "outputs": [],
   "source": [
    "papers[0]"
   ]
  },
  {
   "cell_type": "code",
   "execution_count": null,
   "metadata": {},
   "outputs": [],
   "source": [
    "# graph = []\n",
    "# for i in tqdm(range(len(papers))):\n",
    "#     for citations in papers[i]['citations']:\n",
    "#         citation = citations[1]\n",
    "#         for paper in papers:\n",
    "#             if paper['title'] == citation:\n",
    "#                 if(paper['index'] == papers[i]['index']):\n",
    "#                     continue\n",
    "#                 edge = (papers[i]['index'], paper['index'])\n",
    "#                 graph.append(edge)\n",
    "#                 # print(edge)\n",
    "#                 break\n",
    "\n",
    "# with open(\"graph.pkl\", 'wb') as f:\n",
    "#     pickle.dump(graph, f)"
   ]
  },
  {
   "cell_type": "code",
   "execution_count": null,
   "metadata": {},
   "outputs": [],
   "source": [
    "with open(\"graph.pkl\", 'rb') as f:\n",
    "    graph = pickle.load(f)"
   ]
  },
  {
   "cell_type": "code",
   "execution_count": null,
   "metadata": {},
   "outputs": [],
   "source": [
    "print(len(graph)) # 727, 1646, 1676, 1648, 17810, 18208, 18213"
   ]
  },
  {
   "cell_type": "code",
   "execution_count": null,
   "metadata": {},
   "outputs": [],
   "source": [
    "import matplotlib.pyplot as plt\n",
    "import networkx as nx\n",
    "import seaborn as sns"
   ]
  },
  {
   "cell_type": "code",
   "execution_count": null,
   "metadata": {},
   "outputs": [],
   "source": [
    "len(papers)"
   ]
  },
  {
   "cell_type": "code",
   "execution_count": null,
   "metadata": {},
   "outputs": [],
   "source": [
    "G = nx.DiGraph()\n",
    "G.add_nodes_from(range(len(papers)))\n",
    "G.add_edges_from(graph)"
   ]
  },
  {
   "cell_type": "code",
   "execution_count": null,
   "metadata": {},
   "outputs": [],
   "source": [
    "plt.figure(figsize=(300, 200))\n",
    "plt.title(\"Citation Graph\")\n",
    "plt.axis('off')\n",
    "pos = nx.spring_layout(G, k=0.1, iterations=50)\n",
    "nx.draw(\n",
    "    G, pos,\n",
    "    node_size=30,\n",
    "    with_labels=True,\n",
    "    font_size=10,\n",
    "    font_color='yellow'  # ← Set font color to yellow\n",
    ")\n",
    "plt.savefig(\"citation_graph.png\", dpi=100, bbox_inches='tight')"
   ]
  },
  {
   "cell_type": "code",
   "execution_count": null,
   "metadata": {},
   "outputs": [],
   "source": [
    "print(\"Number of nodes in the graph:\", G.number_of_nodes())\n",
    "print(\"Number of edges in the graph:\", G.number_of_edges())\n",
    "isolated_nodes = list(nx.isolates(G))\n",
    "print(\"Number of isolated nodes in the graph:\", len(isolated_nodes))"
   ]
  },
  {
   "cell_type": "code",
   "execution_count": null,
   "metadata": {},
   "outputs": [],
   "source": [
    "degrees = np.array([deg for _, deg in G.degree()])\n",
    "in_degrees =  np.array([deg for _, deg in G.in_degree()])\n",
    "out_degrees = np.array([deg for _, deg in G.out_degree()])\n",
    "\n",
    "average_degree = degrees.mean()\n",
    "average_in_degree = in_degrees.mean()\n",
    "average_out_degree = out_degrees.mean()\n",
    "\n",
    "print(\"Average degree (3 decimal places):\", np.round(average_degree, 3))\n",
    "print(\"Average in-degree (3 decimal places):\", np.round(average_in_degree, 3))\n",
    "print(\"Average out-degree (3 decimal places):\", np.round(average_out_degree, 3))"
   ]
  },
  {
   "cell_type": "code",
   "execution_count": null,
   "metadata": {},
   "outputs": [],
   "source": [
    "#plt.figure(figsize=(10, 6))\n",
    "#plt.hist(degrees, bins=100, color='skyblue', edgecolor='black')\n",
    "#plt.title(\"Histogram of Node Degrees\")\n",
    "#plt.xlabel(\"Degree\")\n",
    "#plt.ylabel(\"Number of Nodes\")\n",
    "#plt.grid(True)\n",
    "#plt.show()\n",
    "\n",
    "plt.figure(figsize=(10, 6))\n",
    "sns.histplot(degrees, bins=100, color='skyblue', edgecolor='black')\n",
    "\n",
    "plt.title(\"Histogram of Node Degrees\", fontsize=16)\n",
    "plt.xlabel(\"Degree\", fontsize=14)\n",
    "plt.ylabel(\"Number of Nodes\", fontsize=14)\n",
    "plt.grid(visible=True, which=\"both\", linestyle='--', alpha=0.5)\n",
    "sns.despine()\n",
    "plt.tight_layout()\n",
    "plt.show()\n",
    "\n",
    "\n",
    "\n",
    "\n"
   ]
  },
  {
   "cell_type": "code",
   "execution_count": null,
   "metadata": {},
   "outputs": [],
   "source": [
    "plt.figure(figsize=(10, 6))\n",
    "sns.histplot(in_degrees, bins=100, color='skyblue', edgecolor='black')\n",
    "\n",
    "plt.title(\"Histogram of Node In-Degrees\", fontsize=16)\n",
    "plt.xlabel(\"In-Degree\", fontsize=14)\n",
    "plt.ylabel(\"Number of Nodes\", fontsize=14)\n",
    "plt.grid(visible=True, which=\"both\", linestyle='--', alpha=0.5)\n",
    "sns.despine()\n",
    "plt.tight_layout()\n",
    "plt.show()\n"
   ]
  },
  {
   "cell_type": "code",
   "execution_count": null,
   "metadata": {},
   "outputs": [],
   "source": [
    "plt.figure(figsize=(10, 6))\n",
    "sns.histplot(out_degrees, bins=100, color='skyblue', edgecolor='black')\n",
    "\n",
    "plt.title(\"Histogram of Node Out-Degrees\", fontsize=16)\n",
    "plt.xlabel(\"Out-Degree\", fontsize=14)\n",
    "plt.ylabel(\"Number of Nodes\", fontsize=14)\n",
    "plt.grid(visible=True, which=\"both\", linestyle='--', alpha=0.5)\n",
    "sns.despine()\n",
    "plt.tight_layout()\n",
    "plt.show()\n"
   ]
  },
  {
   "cell_type": "code",
   "execution_count": null,
   "metadata": {},
   "outputs": [],
   "source": [
    "if not nx.is_strongly_connected(G):\n",
    "    # Get largest strongly connected component\n",
    "    largest_scc = max(nx.strongly_connected_components(G), key=len)\n",
    "    G_sub = G.subgraph(largest_scc)\n",
    "\n",
    "    # Compute diameter (requires undirected or fully strongly connected)\n",
    "    diameter = nx.diameter(G_sub)\n",
    "    print(\"Diameter of the largest strongly connected component:\", diameter)\n",
    "else:\n",
    "    diameter = nx.diameter(G)\n",
    "    print(\"Diameter of the graph:\", diameter)"
   ]
  },
  {
   "cell_type": "code",
   "execution_count": null,
   "metadata": {},
   "outputs": [],
   "source": [
    "nx.number_of_selfloops(G) # should be 0"
   ]
  },
  {
   "cell_type": "code",
   "execution_count": null,
   "metadata": {},
   "outputs": [],
   "source": [
    "nx.write_graphml(G, \"citation_graph.graphml\")"
   ]
  },
  {
   "cell_type": "code",
   "execution_count": null,
   "metadata": {},
   "outputs": [],
   "source": [
    "with open(\"data/papers.pkl\", 'wb') as f:\n",
    "    pickle.dump(papers, f)\n"
   ]
  }
 ],
 "metadata": {
  "kernelspec": {
   "display_name": "base",
   "language": "python",
   "name": "python3"
  },
  "language_info": {
   "codemirror_mode": {
    "name": "ipython",
    "version": 3
   },
   "file_extension": ".py",
   "mimetype": "text/x-python",
   "name": "python",
   "nbconvert_exporter": "python",
   "pygments_lexer": "ipython3",
   "version": "3.12.7"
  }
 },
 "nbformat": 4,
 "nbformat_minor": 2
}
